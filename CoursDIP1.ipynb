{
  "nbformat": 4,
  "nbformat_minor": 0,
  "metadata": {
    "colab": {
      "provenance": []
    },
    "kernelspec": {
      "name": "python3",
      "display_name": "Python 3"
    },
    "language_info": {
      "name": "python"
    }
  },
  "cells": [
    {
      "cell_type": "markdown",
      "source": [
        "Les variables et types de variables"
      ],
      "metadata": {
        "id": "6DFM-0QB4oxN"
      }
    },
    {
      "cell_type": "code",
      "execution_count": null,
      "metadata": {
        "colab": {
          "base_uri": "https://localhost:8080/"
        },
        "id": "el08n9Cl3oBK",
        "outputId": "febed15e-aa0f-424d-bc3e-ebd52a6ea812"
      },
      "outputs": [
        {
          "output_type": "stream",
          "name": "stdout",
          "text": [
            "hello world\n",
            "Bonjour\n"
          ]
        }
      ],
      "source": [
        "print('hello world')\n",
        "print('Bonjour')"
      ]
    },
    {
      "cell_type": "code",
      "source": [
        "a = 10\n",
        "print(f'la variable a = (a)')"
      ],
      "metadata": {
        "colab": {
          "base_uri": "https://localhost:8080/"
        },
        "id": "DCyjoowm6rL-",
        "outputId": "c924f89f-8979-42c4-adf0-7fe523d02d6b"
      },
      "execution_count": null,
      "outputs": [
        {
          "output_type": "stream",
          "name": "stdout",
          "text": [
            "la variable a = (a)\n"
          ]
        }
      ]
    },
    {
      "cell_type": "code",
      "source": [
        "# Intergrer 0, 1, 2, 3 (N) # int\n",
        "variable1 = 10\n",
        "print(variable1)\n",
        "print(type(variable1))\n",
        "\n",
        "# float 0.5, 1.65145\n",
        "variable2 = 10.0\n",
        "print(variable2)\n",
        "print(type(variable2))\n",
        "\n",
        "# string 'Anis'\n",
        "variable3 = 'Olympique de Marseille'\n",
        "print(variable3)\n",
        "print(type(variable3))\n",
        "\n"
      ],
      "metadata": {
        "colab": {
          "base_uri": "https://localhost:8080/"
        },
        "id": "k_lEd2sR4erF",
        "outputId": "89e9102e-8bf9-4865-8ce0-b9a077e008c6"
      },
      "execution_count": null,
      "outputs": [
        {
          "output_type": "stream",
          "name": "stdout",
          "text": [
            "10\n",
            "<class 'int'>\n",
            "10.0\n",
            "<class 'float'>\n",
            "Olympique de Marseille\n",
            "<class 'str'>\n"
          ]
        }
      ]
    },
    {
      "cell_type": "code",
      "source": [
        "# convertir float en int\n",
        "print(int(15.3)) # 15.3 est en fait float"
      ],
      "metadata": {
        "colab": {
          "base_uri": "https://localhost:8080/"
        },
        "id": "q1veKmsZAqs7",
        "outputId": "76797e36-f894-43d2-88c9-f6f0b2f1c98e"
      },
      "execution_count": null,
      "outputs": [
        {
          "output_type": "stream",
          "name": "stdout",
          "text": [
            "15\n"
          ]
        }
      ]
    },
    {
      "cell_type": "code",
      "source": [
        "#Boolean True. False, 1,0\n",
        "print(1 == 0) # égalité\n",
        "print(1 < 0)\n",
        "print(1 > 0)\n",
        "print(1 != 0) # different\n",
        "print(1 <= 0)\n",
        "print(1 >= 0)\n",
        "\n",
        "print(bool(1), bool(0), bool(2), bool(3))"
      ],
      "metadata": {
        "colab": {
          "base_uri": "https://localhost:8080/"
        },
        "id": "j67PQFIS9d75",
        "outputId": "6c45913a-495b-42ff-c3d0-2eb0e00502fb"
      },
      "execution_count": null,
      "outputs": [
        {
          "output_type": "stream",
          "name": "stdout",
          "text": [
            "False\n",
            "False\n",
            "True\n",
            "True\n",
            "False\n",
            "True\n",
            "True False True True\n"
          ]
        }
      ]
    },
    {
      "cell_type": "code",
      "source": [
        "#Tuple (1,0) # se met entre parenthèse ()\n",
        "variable4 = (1, 0)\n",
        "print(variable4)\n",
        "print(type(variable4))\n",
        "\n",
        "#list [1, 0, 'OM','PSG', 'OL']\n",
        "\n",
        "variables5 = [1, 0, 'OM','PSG', 'OL']\n",
        "print(variables5)\n",
        "print(type(variables5))\n",
        "\n",
        "#Dict {'p': 'Pomme'} Dictionaire({clé:Valeur}) alors que lis(indice:'valeurs')\n",
        "\n",
        "variables6 = {'P':['Profil', 'Papa', 'Peloton', 'Pomme'],\n",
        "             'Anis':['Eau', 'Clavier', 'Souris']}\n",
        "print(variables6)\n",
        "print(type(variables6))"
      ],
      "metadata": {
        "colab": {
          "base_uri": "https://localhost:8080/"
        },
        "id": "EsaY-MWPBSZ7",
        "outputId": "5881566a-d022-4214-e35f-67f51db97e49"
      },
      "execution_count": null,
      "outputs": [
        {
          "output_type": "stream",
          "name": "stdout",
          "text": [
            "(1, 0)\n",
            "<class 'tuple'>\n",
            "[1, 0, 'OM', 'PSG', 'OL']\n",
            "<class 'list'>\n",
            "{'P': ['Profil', 'Papa', 'Peloton', 'Pomme'], 'Anis': ['Eau', 'Clavier', 'Souris']}\n",
            "<class 'dict'>\n"
          ]
        }
      ]
    },
    {
      "cell_type": "markdown",
      "source": [
        "Les structures de contrôle\n"
      ],
      "metadata": {
        "id": "ReNKw9F2If_M"
      }
    },
    {
      "cell_type": "code",
      "source": [
        "# if else / elif permet de mettre desconditions if condition: print(variable1000)\n",
        "variable1000 = \"PSG\"\n",
        "\n",
        "if variable1000 == 'PSG':\n",
        "  print(\"c'est le PSG\")\n",
        "elif variable1000 == \"Olympique de Marseille\" :\n",
        "  print(\"c'est l'OM\")\n",
        "else:\n",
        "    print(\"ce n'est ni l'OM ni le PSG\")\n"
      ],
      "metadata": {
        "colab": {
          "base_uri": "https://localhost:8080/"
        },
        "id": "zi293xiDB095",
        "outputId": "3acb01fb-1d1f-4781-b0f7-a4fe6a65231d"
      },
      "execution_count": null,
      "outputs": [
        {
          "output_type": "stream",
          "name": "stdout",
          "text": [
            "c'est le PSG\n"
          ]
        }
      ]
    },
    {
      "cell_type": "code",
      "source": [
        "# Les Boucles c'est for <variable> in >list>\n",
        "\n",
        "for i in [0,1,2,3]:\n",
        "  print(i)\n",
        "  print(variable1000)\n",
        "\n",
        "for i in range(10): # print uniquement jusqu'à 9\n",
        "  print(i)"
      ],
      "metadata": {
        "colab": {
          "base_uri": "https://localhost:8080/"
        },
        "id": "3_N_FwrfIoDQ",
        "outputId": "19abbf25-8769-4a58-ad54-b3b9d436b545"
      },
      "execution_count": null,
      "outputs": [
        {
          "output_type": "stream",
          "name": "stdout",
          "text": [
            "0\n",
            "PSG\n",
            "1\n",
            "PSG\n",
            "2\n",
            "PSG\n",
            "3\n",
            "PSG\n",
            "0\n",
            "1\n",
            "2\n",
            "3\n",
            "4\n",
            "5\n",
            "6\n",
            "7\n",
            "8\n",
            "9\n"
          ]
        }
      ]
    },
    {
      "cell_type": "code",
      "source": [
        "# tant que la condition n'est pas resolue on boucle / respecter indentation\n",
        "i=0\n",
        "while(i!=10):\n",
        "  print(i)\n",
        "  i = i+1\n"
      ],
      "metadata": {
        "colab": {
          "base_uri": "https://localhost:8080/"
        },
        "id": "LaTr3HTg9raU",
        "outputId": "a097a0ad-904c-41e2-b66c-a3cb1fe568f6"
      },
      "execution_count": null,
      "outputs": [
        {
          "output_type": "stream",
          "name": "stdout",
          "text": [
            "0\n",
            "1\n",
            "2\n",
            "3\n",
            "4\n",
            "5\n",
            "6\n",
            "7\n",
            "8\n",
            "9\n"
          ]
        }
      ]
    },
    {
      "cell_type": "markdown",
      "source": [
        "Les fonctions\n"
      ],
      "metadata": {
        "id": "n6JXr89_S1B5"
      }
    },
    {
      "cell_type": "code",
      "source": [
        "# Fonction def Nom_Fonction(Argument) Argument 0 les variables qui vont être utilisées ds la Fonction\n",
        "\n",
        "#les variables vivent qu'à l'interieur de la fonction\n",
        "def mean(number1, number2):\n",
        "  mean_of_two_numbers = (number1 + number2) / 2\n",
        "  return mean_of_two_numbers\n",
        "\n",
        "  #print()\n",
        "\n",
        "print(mean(10,20))\n",
        "print(mean(15,20))\n",
        "print(mean(15,204))"
      ],
      "metadata": {
        "colab": {
          "base_uri": "https://localhost:8080/"
        },
        "id": "cXwLLuMjSsnn",
        "outputId": "07238ea9-f77b-4f0d-c150-a12fe7e9a244"
      },
      "execution_count": null,
      "outputs": [
        {
          "output_type": "stream",
          "name": "stdout",
          "text": [
            "15.0\n",
            "17.5\n",
            "109.5\n"
          ]
        }
      ]
    }
  ]
}